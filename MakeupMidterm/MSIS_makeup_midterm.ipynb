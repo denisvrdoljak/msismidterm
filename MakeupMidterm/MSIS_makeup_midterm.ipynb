{
 "cells": [
  {
   "cell_type": "markdown",
   "metadata": {
    "deletable": true,
    "editable": true
   },
   "source": [
    "# MSIS2802/IDIS3802 Spring 2019 Makeup Midterm"
   ]
  },
  {
   "cell_type": "markdown",
   "metadata": {
    "deletable": true,
    "editable": true
   },
   "source": [
    "### There is only one data set for this makeup: MSIS_salaries.csv. Use this .csv and answer the following questions.\n",
    "\n",
    "Answer the following questions  in a Jupyter notebook. Use Markdown cells to clearly identify which question(s) you are answering."
   ]
  },
  {
   "cell_type": "markdown",
   "metadata": {
    "deletable": true,
    "editable": true
   },
   "source": [
    "### 1. Describe the data set in terms of how many rows and columns are there.\n",
    "\n",
    "### 2. Find all job titles that have more than 7% of entries \n",
    "\n",
    "### 3. Create a histogram of NA counts (by column).\n",
    "### 4 Design a graph using Seaborne to compare the distribution of the highest on average paying job title and the lowest average paying job title. If there are two jobs that are on average paid the same, pick whichever you would like.\n",
    "\n",
    "### 5. Create a column that assigns each row a unique identifier (and id number). Rename columns into [Identifier], [age], [industry], [job_title], [currency], [location], and [post_college experience].\n",
    "\n",
    "### 6. Use the identifiers that you created from question 4. Find entries that contain annual salaries that are over 60,000 (also can be shown as 60000) and have less or equal to 5 years of professional work experience. Show your findings in one table and show at least 11 rows of that table.\n",
    "\n",
    "### 7. Create a new column that shows true of false on whether their job tiltes are Data Scientist or containing \"Data Scien\". Show how many of them are there in this data set and what location contains the most of them. If two or more locations have the same amount of results, show all of them. Show your findings in one table.\n",
    "\n",
    "### 8. If you are over or equal to 25 years old, what is the probability that you make over or equal to 100k. Use some kind of statistical framework to show how you can achieve that goal by taking advantages of your location, industry and professional experience.\n",
    "\n",
    "### 9. Find 3 interesting insights from the data set. Write a brief report on these insights as if you are going to present to the corresponding HR data science team in your company. The report should be written in a Jupyter Notebook using markdown, and should not be excessively long. Show your findings, mention the model or technique used to identify each finding, but do not go into details about your code.\n",
    "\n",
    "### 10. Create a regression model to to predict a person's salary.\n",
    "\n",
    "### 11. Create a classification model to to predict a person's job title.\n",
    "### 12 (Bonus Question): Create a clustering model and use it to identify an interesting pattern."
   ]
  },
  {
   "cell_type": "markdown",
   "metadata": {
    "deletable": true,
    "editable": true
   },
   "source": [
    "<b> PS:</b> You will incur penalties if:\n",
    "<ul>\n",
    "<li>Your code is wrong</li>\n",
    "<li>Your code would not work on different data</li>\n",
    "<li>Your code is unnecessarily slow (you use a for loop, or you use DataFrame.apply unnecessarily, etc)\n",
    "<li>You answer is composed of more than one output and it is not clear which question(s) you are answering</ul>\n",
    "   Note:\n",
    "<ul>  You are responsible for importing the csv yourself, dealing with NA's, and cleaning and preparing the data. This is a real-world dataset, with all the typos, mistakes, and random commentary you will see in your careers.\n",
    "\n",
    "Good luck!\n",
    "</ul>"
   ]
  },
  {
   "cell_type": "code",
   "execution_count": null,
   "metadata": {
    "collapsed": true,
    "deletable": true,
    "editable": true
   },
   "outputs": [],
   "source": []
  }
 ],
 "metadata": {
  "kernelspec": {
   "display_name": "Python 3",
   "language": "python",
   "name": "python3"
  },
  "language_info": {
   "codemirror_mode": {
    "name": "ipython",
    "version": 3
   },
   "file_extension": ".py",
   "mimetype": "text/x-python",
   "name": "python",
   "nbconvert_exporter": "python",
   "pygments_lexer": "ipython3",
   "version": "3.7.1"
  }
 },
 "nbformat": 4,
 "nbformat_minor": 1
}
