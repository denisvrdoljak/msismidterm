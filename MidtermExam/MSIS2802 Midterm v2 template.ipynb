{
 "cells": [
  {
   "cell_type": "markdown",
   "metadata": {
    "deletable": true,
    "editable": true
   },
   "source": [
    "# MSIS2802/IDIS3802 Spring 2019 Midterm, in-class exam"
   ]
  },
  {
   "cell_type": "markdown",
   "metadata": {
    "deletable": true,
    "editable": true
   },
   "source": [
    "<b>Penalties:</b> You will incur penalties if:\n",
    "<ul>\n",
    "<li>Your code is wrong</li>\n",
    "<li>Your code would not work on different data</li>\n",
    "<li>Your code is unnecessarily slow (you use a for loop, or you use DataFrame.apply unnecessarily, etc)\n",
    "<li>You answer is composed of more than one output, unless explicitly permitted\n",
    "</ul>"
   ]
  },
  {
   "cell_type": "markdown",
   "metadata": {
    "deletable": true,
    "editable": true
   },
   "source": [
    "### There are two data sets for this test. First one is GOOGL_AMZN.csv, which has the Google and Amazon stock price from 2004-09-01 till end of 2018. Use this .csv and answer the first set of questions."
   ]
  },
  {
   "cell_type": "markdown",
   "metadata": {
    "deletable": true,
    "editable": true
   },
   "source": [
    "## Execute this code to read the 1st set of data"
   ]
  },
  {
   "cell_type": "code",
   "execution_count": 1,
   "metadata": {
    "collapsed": true,
    "deletable": true,
    "editable": true
   },
   "outputs": [],
   "source": [
    "# print all the outputs in a cell\n",
    "from IPython.core.interactiveshell import InteractiveShell\n",
    "InteractiveShell.ast_node_interactivity = \"all\"\n",
    "\n",
    "import pandas as pd\n",
    "import numpy as np\n",
    "\n",
    "df_stock = pd.read_csv('GOOGL_AMZN.csv',index_col=0, parse_dates=True)"
   ]
  },
  {
   "cell_type": "code",
   "execution_count": 2,
   "metadata": {
    "collapsed": false,
    "deletable": true,
    "editable": true
   },
   "outputs": [
    {
     "data": {
      "text/html": [
       "<div>\n",
       "<style scoped>\n",
       "    .dataframe tbody tr th:only-of-type {\n",
       "        vertical-align: middle;\n",
       "    }\n",
       "\n",
       "    .dataframe tbody tr th {\n",
       "        vertical-align: top;\n",
       "    }\n",
       "\n",
       "    .dataframe thead th {\n",
       "        text-align: right;\n",
       "    }\n",
       "</style>\n",
       "<table border=\"1\" class=\"dataframe\">\n",
       "  <thead>\n",
       "    <tr style=\"text-align: right;\">\n",
       "      <th></th>\n",
       "      <th>GOOGLE</th>\n",
       "      <th>AMZN</th>\n",
       "    </tr>\n",
       "    <tr>\n",
       "      <th>Date</th>\n",
       "      <th></th>\n",
       "      <th></th>\n",
       "    </tr>\n",
       "  </thead>\n",
       "  <tbody>\n",
       "    <tr>\n",
       "      <th>2004-09-01</th>\n",
       "      <td>50.175175</td>\n",
       "      <td>38.240002</td>\n",
       "    </tr>\n",
       "    <tr>\n",
       "      <th>2004-09-02</th>\n",
       "      <td>50.805805</td>\n",
       "      <td>39.180000</td>\n",
       "    </tr>\n",
       "    <tr>\n",
       "      <th>2004-09-03</th>\n",
       "      <td>50.055054</td>\n",
       "      <td>38.740002</td>\n",
       "    </tr>\n",
       "    <tr>\n",
       "      <th>2004-09-07</th>\n",
       "      <td>50.840839</td>\n",
       "      <td>38.509998</td>\n",
       "    </tr>\n",
       "    <tr>\n",
       "      <th>2004-09-08</th>\n",
       "      <td>51.201202</td>\n",
       "      <td>38.009998</td>\n",
       "    </tr>\n",
       "  </tbody>\n",
       "</table>\n",
       "</div>"
      ],
      "text/plain": [
       "               GOOGLE       AMZN\n",
       "Date                            \n",
       "2004-09-01  50.175175  38.240002\n",
       "2004-09-02  50.805805  39.180000\n",
       "2004-09-03  50.055054  38.740002\n",
       "2004-09-07  50.840839  38.509998\n",
       "2004-09-08  51.201202  38.009998"
      ]
     },
     "execution_count": 2,
     "metadata": {},
     "output_type": "execute_result"
    }
   ],
   "source": [
    "df_stock.head()"
   ]
  },
  {
   "cell_type": "markdown",
   "metadata": {
    "deletable": true,
    "editable": true
   },
   "source": [
    "## Problem 1 (10 pts)"
   ]
  },
  {
   "cell_type": "markdown",
   "metadata": {
    "deletable": true,
    "editable": true
   },
   "source": [
    "### 1.1, Plot the stock chart (both stocks in one chart)"
   ]
  },
  {
   "cell_type": "code",
   "execution_count": null,
   "metadata": {
    "collapsed": true,
    "deletable": true,
    "editable": true
   },
   "outputs": [],
   "source": []
  },
  {
   "cell_type": "markdown",
   "metadata": {
    "deletable": true,
    "editable": true
   },
   "source": [
    "### 1.2, What is the dates for each stock hit their max ? Show only the date (If there are ties, use the first date)"
   ]
  },
  {
   "cell_type": "code",
   "execution_count": null,
   "metadata": {
    "collapsed": true,
    "deletable": true,
    "editable": true
   },
   "outputs": [],
   "source": []
  },
  {
   "cell_type": "markdown",
   "metadata": {
    "deletable": true,
    "editable": true
   },
   "source": [
    "## Problem 2 (10 pts)"
   ]
  },
  {
   "cell_type": "markdown",
   "metadata": {
    "deletable": true,
    "editable": true
   },
   "source": [
    "### 2.1, If you buy then hold AMZN stock for 60 trading days, what's the max of dollars you can gain per share ? what's the max of dollars you can lose per share?  (show only the dollar amount)"
   ]
  },
  {
   "cell_type": "code",
   "execution_count": null,
   "metadata": {
    "collapsed": true,
    "deletable": true,
    "editable": true
   },
   "outputs": [],
   "source": []
  },
  {
   "cell_type": "markdown",
   "metadata": {
    "deletable": true,
    "editable": true
   },
   "source": [
    "### 2.2, What's the worst buy and sell decision for this GOOGLE stock ? List the buying and selling date and how much \\$ you will lose per share."
   ]
  },
  {
   "cell_type": "code",
   "execution_count": null,
   "metadata": {
    "collapsed": true,
    "deletable": true,
    "editable": true
   },
   "outputs": [],
   "source": []
  },
  {
   "cell_type": "markdown",
   "metadata": {
    "deletable": true,
    "editable": true
   },
   "source": [
    "## Now let's work on the 2nd data set, Boston police intervention records."
   ]
  },
  {
   "cell_type": "code",
   "execution_count": null,
   "metadata": {
    "collapsed": true
   },
   "outputs": [],
   "source": [
    "with open(\"filename.csv\") as datafile:\n",
    "    \n"
   ]
  },
  {
   "cell_type": "code",
   "execution_count": 3,
   "metadata": {
    "collapsed": true,
    "deletable": true,
    "editable": true
   },
   "outputs": [],
   "source": [
    "# print all the outputs in a cell\n",
    "from IPython.core.interactiveshell import InteractiveShell\n",
    "InteractiveShell.ast_node_interactivity = \"all\"\n",
    "\n",
    "import pandas as pd\n",
    "import numpy as np\n",
    "\n",
    "df = pd.read_csv('interventions.csv',index_col=0)\n",
    "df['DATE']=pd.to_datetime(df['DATE'], format=\"%Y-%m-%d\")"
   ]
  },
  {
   "cell_type": "code",
   "execution_count": 4,
   "metadata": {
    "collapsed": false,
    "deletable": true,
    "editable": true
   },
   "outputs": [
    {
     "data": {
      "text/plain": [
       "152230"
      ]
     },
     "execution_count": 4,
     "metadata": {},
     "output_type": "execute_result"
    },
    {
     "data": {
      "text/html": [
       "<div>\n",
       "<style scoped>\n",
       "    .dataframe tbody tr th:only-of-type {\n",
       "        vertical-align: middle;\n",
       "    }\n",
       "\n",
       "    .dataframe tbody tr th {\n",
       "        vertical-align: top;\n",
       "    }\n",
       "\n",
       "    .dataframe thead th {\n",
       "        text-align: right;\n",
       "    }\n",
       "</style>\n",
       "<table border=\"1\" class=\"dataframe\">\n",
       "  <thead>\n",
       "    <tr style=\"text-align: right;\">\n",
       "      <th></th>\n",
       "      <th>DATE</th>\n",
       "      <th>CITY</th>\n",
       "      <th>REASONS</th>\n",
       "      <th>SUBJECT_AGE</th>\n",
       "      <th>SUBJECT_VEHICLE</th>\n",
       "      <th>SUBJECT_GENDER</th>\n",
       "      <th>SUBJECT_ETHNICITY</th>\n",
       "      <th>SUBJECT_CLOTHING</th>\n",
       "      <th>OFFICER_ID</th>\n",
       "    </tr>\n",
       "  </thead>\n",
       "  <tbody>\n",
       "    <tr>\n",
       "      <th>0</th>\n",
       "      <td>2013-12-10</td>\n",
       "      <td>NaN</td>\n",
       "      <td>DRUGS, INVESTIGATION</td>\n",
       "      <td>59</td>\n",
       "      <td>NISSAN</td>\n",
       "      <td>MALE</td>\n",
       "      <td>B(Black)</td>\n",
       "      <td>blk jacket, blk shirt, blue jeans, wht sneakers</td>\n",
       "      <td>98656</td>\n",
       "    </tr>\n",
       "    <tr>\n",
       "      <th>1</th>\n",
       "      <td>2012-05-24</td>\n",
       "      <td>OTHER</td>\n",
       "      <td>DRUGS, POSSESSION</td>\n",
       "      <td>26</td>\n",
       "      <td>NO DATA ENTERED</td>\n",
       "      <td>MALE</td>\n",
       "      <td>W(White)</td>\n",
       "      <td>GRY. SWEATSHIRT, BLUE JEANS</td>\n",
       "      <td>9765</td>\n",
       "    </tr>\n",
       "    <tr>\n",
       "      <th>2</th>\n",
       "      <td>2012-06-04</td>\n",
       "      <td>NaN</td>\n",
       "      <td>INVESTIGATE, PERSON</td>\n",
       "      <td>18</td>\n",
       "      <td>NO DATA ENTERED</td>\n",
       "      <td>MALE</td>\n",
       "      <td>B(Black)</td>\n",
       "      <td>GRY SWEATSHIRT, GRY PANTS</td>\n",
       "      <td>83575</td>\n",
       "    </tr>\n",
       "    <tr>\n",
       "      <th>3</th>\n",
       "      <td>2014-06-21</td>\n",
       "      <td>Dorchester</td>\n",
       "      <td>ABDW</td>\n",
       "      <td>24</td>\n",
       "      <td>NO DATA ENTERED</td>\n",
       "      <td>MALE</td>\n",
       "      <td>B(Black)</td>\n",
       "      <td>lime green shirt, blue jeans</td>\n",
       "      <td>76146</td>\n",
       "    </tr>\n",
       "    <tr>\n",
       "      <th>4</th>\n",
       "      <td>2010-12-02</td>\n",
       "      <td>Dorchester</td>\n",
       "      <td>VAL</td>\n",
       "      <td>70</td>\n",
       "      <td>SATURN</td>\n",
       "      <td>MALE</td>\n",
       "      <td>B(Black)</td>\n",
       "      <td>BLU DOWN VEST BLU PANTS</td>\n",
       "      <td>107106</td>\n",
       "    </tr>\n",
       "  </tbody>\n",
       "</table>\n",
       "</div>"
      ],
      "text/plain": [
       "        DATE        CITY               REASONS  SUBJECT_AGE  SUBJECT_VEHICLE  \\\n",
       "0 2013-12-10         NaN  DRUGS, INVESTIGATION           59           NISSAN   \n",
       "1 2012-05-24       OTHER     DRUGS, POSSESSION           26  NO DATA ENTERED   \n",
       "2 2012-06-04         NaN   INVESTIGATE, PERSON           18  NO DATA ENTERED   \n",
       "3 2014-06-21  Dorchester                  ABDW           24  NO DATA ENTERED   \n",
       "4 2010-12-02  Dorchester                   VAL           70           SATURN   \n",
       "\n",
       "  SUBJECT_GENDER SUBJECT_ETHNICITY  \\\n",
       "0           MALE          B(Black)   \n",
       "1           MALE          W(White)   \n",
       "2           MALE          B(Black)   \n",
       "3           MALE          B(Black)   \n",
       "4           MALE          B(Black)   \n",
       "\n",
       "                                  SUBJECT_CLOTHING  OFFICER_ID  \n",
       "0  blk jacket, blk shirt, blue jeans, wht sneakers       98656  \n",
       "1                      GRY. SWEATSHIRT, BLUE JEANS        9765  \n",
       "2                        GRY SWEATSHIRT, GRY PANTS       83575  \n",
       "3                     lime green shirt, blue jeans       76146  \n",
       "4                          BLU DOWN VEST BLU PANTS      107106  "
      ]
     },
     "execution_count": 4,
     "metadata": {},
     "output_type": "execute_result"
    }
   ],
   "source": [
    "len(df)\n",
    "df.head()"
   ]
  },
  {
   "cell_type": "markdown",
   "metadata": {
    "deletable": true,
    "editable": true
   },
   "source": [
    "## Data Description"
   ]
  },
  {
   "cell_type": "markdown",
   "metadata": {
    "deletable": true,
    "editable": true
   },
   "source": [
    "The data set reports information on police interventions near Boston (one intervention per row). During an intervention, a police officer (identified by an OFFICER_ID), records information on a subject suspected to be violating the law.\n",
    "\n",
    "#### Columns:\n",
    "<ul>\n",
    "<li><b>DATE</b>: the date of the intervention\n",
    "<li><b>CITY</b>: the city where the intervention occurred\n",
    "<li><b>REASONS</b>: a comma-separated list of reasons why the officer intervened\n",
    "<li><b>SUBJECT_AGE</b>: the age of the subject suspected to be violating the law\n",
    "<li><b>SUBJECT_VEHICLE</b>: the subject's vehicle's car maker\n",
    "<li><b>SUBJECT_GENDER</b>: the subject's gender\n",
    "<li><b>SUBJECT_ETHNICITY</b>: the subject's ethnicity\n",
    "<li><b>SUBJECT_CLOTHING</b>: a comma-separated list of clothes worn by the subject\n",
    "<li><b>OFFICER_ID</b>: the id of the officer performing the intevention\n",
    "</ul>"
   ]
  },
  {
   "cell_type": "markdown",
   "metadata": {
    "deletable": true,
    "editable": true
   },
   "source": [
    "## Problem 3 (10 pts)"
   ]
  },
  {
   "cell_type": "markdown",
   "metadata": {
    "deletable": true,
    "editable": true
   },
   "source": [
    "### 3.1, How many interventions occurred in 'Dorchester'?"
   ]
  },
  {
   "cell_type": "code",
   "execution_count": null,
   "metadata": {
    "collapsed": true,
    "deletable": true,
    "editable": true
   },
   "outputs": [],
   "source": []
  },
  {
   "cell_type": "markdown",
   "metadata": {
    "deletable": true,
    "editable": true
   },
   "source": [
    "### 3.2, How many different police officer in this data set ?"
   ]
  },
  {
   "cell_type": "code",
   "execution_count": null,
   "metadata": {
    "collapsed": true,
    "deletable": true,
    "editable": true
   },
   "outputs": [],
   "source": []
  },
  {
   "cell_type": "markdown",
   "metadata": {
    "deletable": true,
    "editable": true
   },
   "source": [
    "### 3.3, How big is this data set ? (rows, columns)"
   ]
  },
  {
   "cell_type": "code",
   "execution_count": null,
   "metadata": {
    "collapsed": true,
    "deletable": true,
    "editable": true
   },
   "outputs": [],
   "source": []
  },
  {
   "cell_type": "markdown",
   "metadata": {
    "deletable": true,
    "editable": true
   },
   "source": [
    "## Problem 4 (10 pts)"
   ]
  },
  {
   "cell_type": "markdown",
   "metadata": {
    "deletable": true,
    "editable": true
   },
   "source": [
    "### 4.1, Which column has the most Nan in it and how many Nan ?"
   ]
  },
  {
   "cell_type": "code",
   "execution_count": null,
   "metadata": {
    "collapsed": true,
    "deletable": true,
    "editable": true
   },
   "outputs": [],
   "source": []
  },
  {
   "cell_type": "markdown",
   "metadata": {
    "deletable": true,
    "editable": true
   },
   "source": [
    "### 4.2, There are some rows has invalide date entry(the DATEs are in the future compare to today's date '2019-02-20'. How many rows has this type of error?"
   ]
  },
  {
   "cell_type": "code",
   "execution_count": null,
   "metadata": {
    "collapsed": true,
    "deletable": true,
    "editable": true
   },
   "outputs": [],
   "source": []
  },
  {
   "cell_type": "markdown",
   "metadata": {
    "deletable": true,
    "editable": true
   },
   "source": [
    "## Problem 5 (10 pts)"
   ]
  },
  {
   "cell_type": "markdown",
   "metadata": {
    "deletable": true,
    "editable": true
   },
   "source": [
    "### 5.1, Which police officers (based on OFFICER_ID) handled the 2nd most cases ? Find that officer's ID."
   ]
  },
  {
   "cell_type": "code",
   "execution_count": null,
   "metadata": {
    "collapsed": true,
    "deletable": true,
    "editable": true
   },
   "outputs": [],
   "source": []
  },
  {
   "cell_type": "markdown",
   "metadata": {
    "deletable": true,
    "editable": true
   },
   "source": [
    "### 5.2, Which DATE this police officer handled the most interventions. List the date and the total number of interventions this police officer handled."
   ]
  },
  {
   "cell_type": "code",
   "execution_count": null,
   "metadata": {
    "collapsed": true,
    "deletable": true,
    "editable": true
   },
   "outputs": [],
   "source": []
  },
  {
   "cell_type": "markdown",
   "metadata": {
    "deletable": true,
    "editable": true
   },
   "source": [
    "## Problem 6 (10 pts)"
   ]
  },
  {
   "cell_type": "markdown",
   "metadata": {
    "deletable": true,
    "editable": true
   },
   "source": [
    "### 6.1, What's the top 5 reasons for police interventions ?"
   ]
  },
  {
   "cell_type": "code",
   "execution_count": null,
   "metadata": {
    "collapsed": true,
    "deletable": true,
    "editable": true
   },
   "outputs": [],
   "source": []
  },
  {
   "cell_type": "markdown",
   "metadata": {
    "deletable": true,
    "editable": true
   },
   "source": [
    "### 6.2, What is the proportion of interventions whose REASONS include FIREARM or DRUGS? You must only return one number between 0 and 1. Do not round it."
   ]
  },
  {
   "cell_type": "code",
   "execution_count": null,
   "metadata": {
    "collapsed": true,
    "deletable": true,
    "editable": true
   },
   "outputs": [],
   "source": []
  },
  {
   "cell_type": "markdown",
   "metadata": {
    "deletable": true,
    "editable": true
   },
   "source": [
    "## Problem 7 (10 pts)"
   ]
  },
  {
   "cell_type": "markdown",
   "metadata": {
    "deletable": true,
    "editable": true
   },
   "source": [
    "### Only consider the subject age between 18 to 100, for each city, 1)find the average subject age and 2)the gap between the oldest to the youngest. Rename the field to AGE_AVG and AGE_SPREAD. Sort the report based on average age ascending. Display both information in one table and shows the last 5 rows of the table."
   ]
  },
  {
   "cell_type": "code",
   "execution_count": null,
   "metadata": {
    "collapsed": true,
    "deletable": true,
    "editable": true
   },
   "outputs": [],
   "source": []
  },
  {
   "cell_type": "markdown",
   "metadata": {
    "deletable": true,
    "editable": true
   },
   "source": [
    "## Problem 8 (10 pts)"
   ]
  },
  {
   "cell_type": "markdown",
   "metadata": {
    "deletable": true,
    "editable": true
   },
   "source": [
    "### For each OFFICER_ID, find the number of interventions whose SUBJECT_VEHICLE is a TOYOTA or an HONDA. Call these columns N_TOYOTA and N_HONDA, respectively. Display the result table's first 5 rows based on N_HONDA in descending order."
   ]
  },
  {
   "cell_type": "code",
   "execution_count": null,
   "metadata": {
    "collapsed": true,
    "deletable": true,
    "editable": true
   },
   "outputs": [],
   "source": []
  },
  {
   "cell_type": "markdown",
   "metadata": {
    "deletable": true,
    "editable": true
   },
   "source": [
    "## Problem 9 (10 pts)"
   ]
  },
  {
   "cell_type": "markdown",
   "metadata": {
    "deletable": true,
    "editable": true
   },
   "source": [
    "### For each existing combination of SUBJECT_ETHNICITY and SUBJECT_GENDER, find the total number of interventions (call it N_INTERVENTIONS) and the number of interventions where the subject's age is less than or equal to 18 (call it N_YOUNG). Display the first 5 rows of this result table based on N_INTERVENTIONS in descending order."
   ]
  },
  {
   "cell_type": "code",
   "execution_count": null,
   "metadata": {
    "collapsed": true,
    "deletable": true,
    "editable": true
   },
   "outputs": [],
   "source": []
  },
  {
   "cell_type": "markdown",
   "metadata": {
    "deletable": true,
    "editable": true
   },
   "source": [
    "## Problem 10 (Extra Bonus) (10 pts)"
   ]
  },
  {
   "cell_type": "markdown",
   "metadata": {
    "deletable": true,
    "editable": true
   },
   "source": [
    "### Find the intervention where the SUBJECT_CLOTHING field has the most descriptions. Show only the DATE, REASONS, SUBJECT_CLOTHING and OFFICER_ID.\n",
    "\n",
    "*Hint1:* You can find the number of clothes description for the subject by counting the number of elements, separated by commas(','), in the field SUBJECT_CLOTHING. \n",
    "<p>*Hint2:* Explore *.str.count()*</p>"
   ]
  },
  {
   "cell_type": "code",
   "execution_count": null,
   "metadata": {
    "collapsed": true,
    "deletable": true,
    "editable": true
   },
   "outputs": [],
   "source": []
  }
 ],
 "metadata": {
  "kernelspec": {
   "display_name": "Python 3",
   "language": "python",
   "name": "python3"
  },
  "language_info": {
   "codemirror_mode": {
    "name": "ipython",
    "version": 3
   },
   "file_extension": ".py",
   "mimetype": "text/x-python",
   "name": "python",
   "nbconvert_exporter": "python",
   "pygments_lexer": "ipython3",
   "version": "3.7.1"
  }
 },
 "nbformat": 4,
 "nbformat_minor": 1
}
