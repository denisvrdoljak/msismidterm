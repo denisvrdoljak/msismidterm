{
 "cells": [
  {
   "cell_type": "markdown",
   "metadata": {
    "deletable": true,
    "editable": true
   },
   "source": [
    "# 2019 Spring Data Science /w Python Final Exam"
   ]
  },
  {
   "cell_type": "markdown",
   "metadata": {
    "deletable": true,
    "editable": true
   },
   "source": [
    "<p>Instructions\n",
    "<ol>\n",
    "<li>Download the file <i>appointments.csv</i> into the same folder as the current Jupyter notebook\n",
    "<li>Run the code below and then answer the questions\n",
    "</ol></p>"
   ]
  },
  {
   "cell_type": "markdown",
   "metadata": {
    "deletable": true,
    "editable": true
   },
   "source": [
    "<b>Penalties:</b> You will incur penalties if:\n",
    "<ul>\n",
    "<li>Your answer is different from the correct one</li>\n",
    "<li>Your code is unncessarily slow</li>\n",
    "<li>Your code is longer than specified</li>\n",
    "<li>You will be penalized if, in an attempt to limit the lines of code, you make your code too hard to read or too slow -- for example, by copy-pasting pieces of code in the same line instead of declaring a variable in one line and using the variable in another.\n",
    "</ul>"
   ]
  },
  {
   "cell_type": "code",
   "execution_count": 1,
   "metadata": {
    "collapsed": true,
    "deletable": true,
    "editable": true
   },
   "outputs": [],
   "source": [
    "import pandas as pd\n",
    "import numpy as np\n",
    "import seaborn as sns\n",
    "df = pd.read_csv('appointments.csv', index_col=0)\n",
    "df['Appt Date'] = df['Appt Date'].astype(np.datetime64)\n",
    "df['Date When Appt Scheduled'] = df['Date When Appt Scheduled'].astype(np.datetime64)"
   ]
  },
  {
   "cell_type": "markdown",
   "metadata": {
    "deletable": true,
    "editable": true
   },
   "source": [
    "## Data Description"
   ]
  },
  {
   "cell_type": "code",
   "execution_count": 2,
   "metadata": {
    "collapsed": false,
    "deletable": true,
    "editable": true,
    "scrolled": true
   },
   "outputs": [
    {
     "data": {
      "text/html": [
       "<div>\n",
       "<style scoped>\n",
       "    .dataframe tbody tr th:only-of-type {\n",
       "        vertical-align: middle;\n",
       "    }\n",
       "\n",
       "    .dataframe tbody tr th {\n",
       "        vertical-align: top;\n",
       "    }\n",
       "\n",
       "    .dataframe thead th {\n",
       "        text-align: right;\n",
       "    }\n",
       "</style>\n",
       "<table border=\"1\" class=\"dataframe\">\n",
       "  <thead>\n",
       "    <tr style=\"text-align: right;\">\n",
       "      <th></th>\n",
       "      <th>AppointmentID</th>\n",
       "      <th>MRN</th>\n",
       "      <th>Appt Date</th>\n",
       "      <th>Appt Time</th>\n",
       "      <th>Appointment Status</th>\n",
       "      <th>Time When Appt Arrived</th>\n",
       "      <th>Date When Appt Scheduled</th>\n",
       "      <th>CAN or BMP Date</th>\n",
       "      <th>Provider ID</th>\n",
       "      <th>Gender</th>\n",
       "      <th>Patient Age at Appt Date</th>\n",
       "      <th>Marital Status</th>\n",
       "      <th>Employment Status</th>\n",
       "    </tr>\n",
       "  </thead>\n",
       "  <tbody>\n",
       "    <tr>\n",
       "      <th>0</th>\n",
       "      <td>1</td>\n",
       "      <td>12067</td>\n",
       "      <td>2013-12-23</td>\n",
       "      <td>900</td>\n",
       "      <td>Cancelled</td>\n",
       "      <td>NaN</td>\n",
       "      <td>2013-09-04</td>\n",
       "      <td>2013-12-11</td>\n",
       "      <td>15</td>\n",
       "      <td>F</td>\n",
       "      <td>52</td>\n",
       "      <td>MARRIED</td>\n",
       "      <td>NOT EMPLOYED</td>\n",
       "    </tr>\n",
       "    <tr>\n",
       "      <th>1</th>\n",
       "      <td>2</td>\n",
       "      <td>7264</td>\n",
       "      <td>2013-11-14</td>\n",
       "      <td>780</td>\n",
       "      <td>Arrived</td>\n",
       "      <td>759.0</td>\n",
       "      <td>2013-05-20</td>\n",
       "      <td>NaN</td>\n",
       "      <td>15</td>\n",
       "      <td>F</td>\n",
       "      <td>33</td>\n",
       "      <td>MARRIED</td>\n",
       "      <td>NOT EMPLOYED</td>\n",
       "    </tr>\n",
       "    <tr>\n",
       "      <th>2</th>\n",
       "      <td>3</td>\n",
       "      <td>9903</td>\n",
       "      <td>2013-10-16</td>\n",
       "      <td>720</td>\n",
       "      <td>Arrived</td>\n",
       "      <td>708.0</td>\n",
       "      <td>2013-06-12</td>\n",
       "      <td>NaN</td>\n",
       "      <td>15</td>\n",
       "      <td>F</td>\n",
       "      <td>40</td>\n",
       "      <td>MARRIED</td>\n",
       "      <td>EMPLOYED FULL TIME</td>\n",
       "    </tr>\n",
       "    <tr>\n",
       "      <th>3</th>\n",
       "      <td>4</td>\n",
       "      <td>9588</td>\n",
       "      <td>2012-12-13</td>\n",
       "      <td>720</td>\n",
       "      <td>Arrived</td>\n",
       "      <td>712.0</td>\n",
       "      <td>2012-11-19</td>\n",
       "      <td>NaN</td>\n",
       "      <td>15</td>\n",
       "      <td>F</td>\n",
       "      <td>25</td>\n",
       "      <td>SINGLE</td>\n",
       "      <td>EMPLOYED FULL TIME</td>\n",
       "    </tr>\n",
       "    <tr>\n",
       "      <th>4</th>\n",
       "      <td>5</td>\n",
       "      <td>8131</td>\n",
       "      <td>2011-03-24</td>\n",
       "      <td>600</td>\n",
       "      <td>Bumped</td>\n",
       "      <td>NaN</td>\n",
       "      <td>2010-03-25</td>\n",
       "      <td>2010-11-10</td>\n",
       "      <td>15</td>\n",
       "      <td>F</td>\n",
       "      <td>57</td>\n",
       "      <td>DIVORCED</td>\n",
       "      <td>EMPLOYED FULL TIME</td>\n",
       "    </tr>\n",
       "  </tbody>\n",
       "</table>\n",
       "</div>"
      ],
      "text/plain": [
       "   AppointmentID    MRN  Appt Date  Appt Time Appointment Status  \\\n",
       "0              1  12067 2013-12-23        900          Cancelled   \n",
       "1              2   7264 2013-11-14        780            Arrived   \n",
       "2              3   9903 2013-10-16        720            Arrived   \n",
       "3              4   9588 2012-12-13        720            Arrived   \n",
       "4              5   8131 2011-03-24        600             Bumped   \n",
       "\n",
       "   Time When Appt Arrived Date When Appt Scheduled CAN or BMP Date  \\\n",
       "0                     NaN               2013-09-04      2013-12-11   \n",
       "1                   759.0               2013-05-20             NaN   \n",
       "2                   708.0               2013-06-12             NaN   \n",
       "3                   712.0               2012-11-19             NaN   \n",
       "4                     NaN               2010-03-25      2010-11-10   \n",
       "\n",
       "   Provider ID Gender  Patient Age at Appt Date Marital Status  \\\n",
       "0           15      F                        52        MARRIED   \n",
       "1           15      F                        33        MARRIED   \n",
       "2           15      F                        40        MARRIED   \n",
       "3           15      F                        25         SINGLE   \n",
       "4           15      F                        57       DIVORCED   \n",
       "\n",
       "    Employment Status  \n",
       "0        NOT EMPLOYED  \n",
       "1        NOT EMPLOYED  \n",
       "2  EMPLOYED FULL TIME  \n",
       "3  EMPLOYED FULL TIME  \n",
       "4  EMPLOYED FULL TIME  "
      ]
     },
     "execution_count": 2,
     "metadata": {},
     "output_type": "execute_result"
    }
   ],
   "source": [
    "df.head()"
   ]
  },
  {
   "cell_type": "markdown",
   "metadata": {
    "deletable": true,
    "editable": true
   },
   "source": [
    "This is an appointment data set for an undisclosed outpatient clinic. One row corresponds to an appointment. Each appointment is characterized by the following attributes:\n",
    "<ul>\n",
    "<li><b>AppointmentID</b>: The unique identifier of the appointment.\n",
    "<li><b>MRN</b>: The unique identifier of the patient (MRN = Medical Record Number).\n",
    "<li><b>Appt Date</b>: The date when the appointment took place.\n",
    "<li><b>Appt Time</b>: The time (expressed in minutes after midnight) when the appointment took place.\n",
    "<li><b>Appointment Status</b>: The outcome of the appointment. \n",
    "    <ul>\n",
    "    <li><i>Arrived</i>: the appointment took place regularly.\n",
    "    <li><i>Cancelled</i>: the appointment was cancelled by the patient before taking place. \n",
    "    <li><i>Bumped</i>: the appointment was cancelled by the provider.\n",
    "    <li><i>No Show</i>: the patient did not show up for the appointment.\n",
    "    <li><i>Pending</i>: the appointment did not take place yet in the moment when the data was pulled.\n",
    "    </ul>\n",
    "<li><b>Time When Appt Arrived</b>: The time (expressed in minutes after midnight) when the patient checked in on the appointment day.\n",
    "<li><b>Date When Appt Scheduled</b>: The day when the appointment was scheduled\n",
    "<li><b>CAN or BMP Date</b>: If the appointment was cancelled or bumped, the date when this even happened.\n",
    "<li><b>Provider ID</b>: The id of the provider scheduled to see the patient.\n",
    "<li><b>Gender</b>: The patient's gender.\n",
    "<li><b>Patient Age at Appt Date</b>: The age of the patient at Appt Date.\n",
    "<li><b>Marital Status</b>: The patient's marital status.\n",
    "<li><b>Employment status</b>: The patient's employment status.\n",
    "</ul>"
   ]
  },
  {
   "cell_type": "markdown",
   "metadata": {
    "deletable": true,
    "editable": true
   },
   "source": [
    "## Q1 (12 pts)"
   ]
  },
  {
   "cell_type": "markdown",
   "metadata": {
    "deletable": true,
    "editable": true
   },
   "source": [
    "### Q1.1,  How many columns and rows this data set has ?"
   ]
  },
  {
   "cell_type": "code",
   "execution_count": null,
   "metadata": {
    "collapsed": true,
    "deletable": true,
    "editable": true
   },
   "outputs": [],
   "source": []
  },
  {
   "cell_type": "markdown",
   "metadata": {
    "deletable": true,
    "editable": true
   },
   "source": [
    "### Q1.2, What's the youngest, oldest and the average age among the patients ?"
   ]
  },
  {
   "cell_type": "code",
   "execution_count": null,
   "metadata": {
    "collapsed": true,
    "deletable": true,
    "editable": true
   },
   "outputs": [],
   "source": []
  },
  {
   "cell_type": "markdown",
   "metadata": {
    "deletable": true,
    "editable": true
   },
   "source": [
    "### Q1.3, How many different Marital Status (exclude NaN)? "
   ]
  },
  {
   "cell_type": "code",
   "execution_count": null,
   "metadata": {
    "collapsed": true,
    "deletable": true,
    "editable": true
   },
   "outputs": [],
   "source": []
  },
  {
   "cell_type": "markdown",
   "metadata": {
    "deletable": true,
    "editable": true
   },
   "source": [
    "## Q2 We need to clean the data and remove all NaN. Follow each subquestion step-by-step carefully. (24 pts)"
   ]
  },
  {
   "cell_type": "markdown",
   "metadata": {
    "deletable": true,
    "editable": true
   },
   "source": [
    "### Q2.1, How many columns have missing value(NaN)?"
   ]
  },
  {
   "cell_type": "code",
   "execution_count": null,
   "metadata": {
    "collapsed": true,
    "deletable": true,
    "editable": true
   },
   "outputs": [],
   "source": []
  },
  {
   "cell_type": "markdown",
   "metadata": {
    "deletable": true,
    "editable": true
   },
   "source": [
    "### Q2.2, Within the whole data frame, how many in total are NaN?"
   ]
  },
  {
   "cell_type": "code",
   "execution_count": null,
   "metadata": {
    "collapsed": true,
    "deletable": true,
    "editable": true
   },
   "outputs": [],
   "source": []
  },
  {
   "cell_type": "markdown",
   "metadata": {
    "deletable": true,
    "editable": true
   },
   "source": [
    "### Q2.3, Drop the rows with Marital Status = NaN and verify it."
   ]
  },
  {
   "cell_type": "code",
   "execution_count": null,
   "metadata": {
    "collapsed": true,
    "deletable": true,
    "editable": true
   },
   "outputs": [],
   "source": []
  },
  {
   "cell_type": "markdown",
   "metadata": {
    "deletable": true,
    "editable": true
   },
   "source": [
    "### Q2,4 After all rows with Marital Status = NaN dropped, how many rows in Employment Status still have NaN ? Drop those rows."
   ]
  },
  {
   "cell_type": "code",
   "execution_count": null,
   "metadata": {
    "collapsed": true,
    "deletable": true,
    "editable": true
   },
   "outputs": [],
   "source": []
  },
  {
   "cell_type": "markdown",
   "metadata": {
    "deletable": true,
    "editable": true
   },
   "source": [
    "### Q2.5, Now let's drop column(s) has more than 50% NaN. (*use 20,000 as the 50%*) After this step, how many columns still there?"
   ]
  },
  {
   "cell_type": "code",
   "execution_count": null,
   "metadata": {
    "collapsed": true,
    "deletable": true,
    "editable": true
   },
   "outputs": [],
   "source": []
  },
  {
   "cell_type": "markdown",
   "metadata": {
    "deletable": true,
    "editable": true
   },
   "source": [
    "### Q2.6, In Time When Appt Arrived column, how many NaN are still there ? change all the NaN to 'Unknown'."
   ]
  },
  {
   "cell_type": "code",
   "execution_count": null,
   "metadata": {
    "collapsed": true,
    "deletable": true,
    "editable": true
   },
   "outputs": [],
   "source": []
  },
  {
   "cell_type": "markdown",
   "metadata": {
    "deletable": true,
    "editable": true
   },
   "source": [
    "### Q2.7, Is there any more missing values/NaN in this data frame? If so, how many ? If not, prove it."
   ]
  },
  {
   "cell_type": "code",
   "execution_count": null,
   "metadata": {
    "collapsed": true,
    "deletable": true,
    "editable": true
   },
   "outputs": [],
   "source": []
  },
  {
   "cell_type": "markdown",
   "metadata": {
    "deletable": true,
    "editable": true
   },
   "source": [
    "### Q2.8, What's the final shape of this data frame after clean up all the NaN? "
   ]
  },
  {
   "cell_type": "code",
   "execution_count": null,
   "metadata": {
    "collapsed": true,
    "deletable": true,
    "editable": true
   },
   "outputs": [],
   "source": []
  },
  {
   "cell_type": "markdown",
   "metadata": {
    "deletable": true,
    "editable": true
   },
   "source": [
    "## *** Before moving to Q3, read this note: ***"
   ]
  },
  {
   "cell_type": "markdown",
   "metadata": {
    "deletable": true,
    "editable": true
   },
   "source": [
    "### <div class=\"alert alert-block alert-info\"> Note: If your answer for above question is not (41600, 12), then you need to uncomment the next 3 lines(remove the '#') and execute the command to reset your data frame before you continue to rest of the test.  </div>\n"
   ]
  },
  {
   "cell_type": "code",
   "execution_count": null,
   "metadata": {
    "collapsed": true,
    "deletable": true,
    "editable": true
   },
   "outputs": [],
   "source": [
    "#df = pd.read_csv('appointments_cleaned.csv', index_col=0)\n",
    "#df['Appt Date'] = df['Appt Date'].astype(np.datetime64)\n",
    "#df['Date When Appt Scheduled'] = df['Date When Appt Scheduled'].astype(np.datetime64)"
   ]
  },
  {
   "cell_type": "markdown",
   "metadata": {
    "deletable": true,
    "editable": true
   },
   "source": [
    "## Q3 Let's take a look at patient related data (12 pts)\n",
    "### (make sure your data frame size is (41600,12)  before continue)"
   ]
  },
  {
   "cell_type": "code",
   "execution_count": null,
   "metadata": {
    "collapsed": true,
    "deletable": true,
    "editable": true
   },
   "outputs": [],
   "source": []
  },
  {
   "cell_type": "markdown",
   "metadata": {
    "deletable": true,
    "editable": true
   },
   "source": [
    "### Q3.1, How many different patients in this data set ?   (hint: based on unique identifier of the patient)"
   ]
  },
  {
   "cell_type": "code",
   "execution_count": null,
   "metadata": {
    "collapsed": true,
    "deletable": true,
    "editable": true
   },
   "outputs": [],
   "source": []
  },
  {
   "cell_type": "markdown",
   "metadata": {
    "deletable": true,
    "editable": true
   },
   "source": [
    "### Q3.2, Which patient show up most frequest in this data set ? Show that person's MRN number and the times it show up."
   ]
  },
  {
   "cell_type": "code",
   "execution_count": null,
   "metadata": {
    "collapsed": true,
    "deletable": true,
    "editable": true
   },
   "outputs": [],
   "source": []
  },
  {
   "cell_type": "markdown",
   "metadata": {
    "deletable": true,
    "editable": true
   },
   "source": [
    "### Q3.3, For the person who show up most frequest in this data set, what is the Marital Status for this person ?  (note: don't use any hardcoded number)"
   ]
  },
  {
   "cell_type": "code",
   "execution_count": null,
   "metadata": {
    "collapsed": true,
    "deletable": true,
    "editable": true
   },
   "outputs": [],
   "source": []
  },
  {
   "cell_type": "markdown",
   "metadata": {
    "deletable": true,
    "editable": true
   },
   "source": [
    "### Q3.4, Based on Patient Age at Appt Date, plot the age distribution. (use bins=50)"
   ]
  },
  {
   "cell_type": "code",
   "execution_count": null,
   "metadata": {
    "collapsed": true,
    "deletable": true,
    "editable": true
   },
   "outputs": [],
   "source": []
  },
  {
   "cell_type": "markdown",
   "metadata": {
    "deletable": true,
    "editable": true
   },
   "source": [
    "## Q4 (12 pts)"
   ]
  },
  {
   "cell_type": "markdown",
   "metadata": {
    "deletable": true,
    "editable": true
   },
   "source": [
    "### Q4.1, Based on Appointment Status, what's the count for each status?(show by descending order)"
   ]
  },
  {
   "cell_type": "code",
   "execution_count": null,
   "metadata": {
    "collapsed": true,
    "deletable": true,
    "editable": true
   },
   "outputs": [],
   "source": []
  },
  {
   "cell_type": "markdown",
   "metadata": {
    "deletable": true,
    "editable": true
   },
   "source": [
    "### Q4.2, Based on last question, use a graphic chart to represent the data. "
   ]
  },
  {
   "cell_type": "code",
   "execution_count": null,
   "metadata": {
    "collapsed": true,
    "deletable": true,
    "editable": true
   },
   "outputs": [],
   "source": []
  },
  {
   "cell_type": "markdown",
   "metadata": {
    "deletable": true,
    "editable": true
   },
   "source": [
    "### Q4.3, Based on Appointment Status, what's the % for patient actually show up?"
   ]
  },
  {
   "cell_type": "code",
   "execution_count": null,
   "metadata": {
    "collapsed": true,
    "deletable": true,
    "editable": true
   },
   "outputs": [],
   "source": []
  },
  {
   "cell_type": "markdown",
   "metadata": {
    "deletable": true,
    "editable": true
   },
   "source": [
    "## Q5 Related to No Show patients (10 pts)"
   ]
  },
  {
   "cell_type": "markdown",
   "metadata": {
    "deletable": true,
    "editable": true
   },
   "source": [
    "### Q5.1 For No Show patients, based on their Marital Status, list the count in descending order. "
   ]
  },
  {
   "cell_type": "code",
   "execution_count": null,
   "metadata": {
    "collapsed": true,
    "deletable": true,
    "editable": true
   },
   "outputs": [],
   "source": []
  },
  {
   "cell_type": "markdown",
   "metadata": {
    "deletable": true,
    "editable": true
   },
   "source": [
    "### Q5.2, What's the most commonly seen Employment status for patient that did not show up?"
   ]
  },
  {
   "cell_type": "code",
   "execution_count": null,
   "metadata": {
    "collapsed": true,
    "deletable": true,
    "editable": true
   },
   "outputs": [],
   "source": []
  },
  {
   "cell_type": "markdown",
   "metadata": {
    "deletable": true,
    "editable": true
   },
   "source": [
    "### Q5.3, Based on Marital Status and Gender, graph the No Show propabality by a bar chart. (set y-axis based on No Show)"
   ]
  },
  {
   "cell_type": "code",
   "execution_count": null,
   "metadata": {
    "collapsed": true,
    "deletable": true,
    "editable": true
   },
   "outputs": [],
   "source": []
  },
  {
   "cell_type": "markdown",
   "metadata": {
    "deletable": true,
    "editable": true
   },
   "source": [
    "## Q6 Related to patients do show up (10 pts)"
   ]
  },
  {
   "cell_type": "markdown",
   "metadata": {
    "deletable": true,
    "editable": true
   },
   "source": [
    "### Q6.1, For patients who show up for their appointment, for each gender, find out the total number of patients (call it N_patient) and the oldest, youngest, average and the age between the oldest vs the youngest(call it Age_spread)  "
   ]
  },
  {
   "cell_type": "code",
   "execution_count": null,
   "metadata": {
    "collapsed": true,
    "deletable": true,
    "editable": true
   },
   "outputs": [],
   "source": []
  },
  {
   "cell_type": "markdown",
   "metadata": {
    "deletable": true,
    "editable": true
   },
   "source": [
    "## Q7, Get information from other table .. (10 pts)"
   ]
  },
  {
   "cell_type": "markdown",
   "metadata": {
    "deletable": true,
    "editable": true
   },
   "source": [
    "### Q7.1, 'MRN_with_income.csv' file contains some patients' income information. Use that file together with appointments.csv file, find out how many unique patient does NOT have income information.\n",
    "### (hint: each patient has a unique MRN number)"
   ]
  },
  {
   "cell_type": "code",
   "execution_count": null,
   "metadata": {
    "collapsed": true,
    "deletable": true,
    "editable": true
   },
   "outputs": [],
   "source": []
  },
  {
   "cell_type": "markdown",
   "metadata": {
    "deletable": true,
    "editable": true
   },
   "source": [
    "## Q8, Look into schedule days gap VS NoShow  (10 pts)"
   ]
  },
  {
   "cell_type": "markdown",
   "metadata": {
    "deletable": true,
    "editable": true
   },
   "source": [
    "### <div class=\"alert alert-block alert-info\"> Note: Create a new column 'Days_Gap' based on the days differences between the 'Appt Date' and the 'Date When Appt Scheduled' </div>"
   ]
  },
  {
   "cell_type": "markdown",
   "metadata": {
    "deletable": true,
    "editable": true
   },
   "source": [
    "for example: df['Days_Gap'] = (df['Appt Date'] - df['Date When Appt Scheduled'] )"
   ]
  },
  {
   "cell_type": "markdown",
   "metadata": {
    "deletable": true,
    "editable": true
   },
   "source": [
    "### Q8.1, With the newly generated 'Days_Gap' column, draw a graph with y based on No Show rate and x based on days gaps, with bins=(0,15,30,60,90,180,360) \n",
    "### (hint: explore .dt.days method for datetime64 object)"
   ]
  },
  {
   "cell_type": "code",
   "execution_count": null,
   "metadata": {
    "collapsed": true,
    "deletable": true,
    "editable": true
   },
   "outputs": [],
   "source": []
  },
  {
   "cell_type": "markdown",
   "metadata": {
    "deletable": true,
    "editable": true
   },
   "source": [
    "## Bonus Question (10 pts)\n",
    "## Q9, Let's use machine learning ... "
   ]
  },
  {
   "cell_type": "markdown",
   "metadata": {
    "deletable": true,
    "editable": true
   },
   "source": [
    "### <div class=\"alert alert-block alert-info\"> Note: Execute the following code cell to load the new data frame for Machine Learning related questions </div>\n"
   ]
  },
  {
   "cell_type": "code",
   "execution_count": null,
   "metadata": {
    "collapsed": true,
    "deletable": true,
    "editable": true
   },
   "outputs": [],
   "source": [
    "import sklearn as sk\n",
    "import sklearn.tree as tree\n",
    "from IPython.display import Image  \n",
    "import pydotplus\n",
    "\n",
    "df_ML = pd.read_csv('appointments_ML.csv')\n",
    "df_ML.head(5)"
   ]
  },
  {
   "cell_type": "markdown",
   "metadata": {
    "deletable": true,
    "editable": true
   },
   "source": [
    "**Days_bins:** means the days gap range from appoint is being scheduled to the actual appointment day."
   ]
  },
  {
   "cell_type": "markdown",
   "metadata": {
    "deletable": true,
    "editable": true
   },
   "source": [
    "### Q9.1, Based on df_ML, draw a 2 level Decision Tree to classify whether the patient will show up or not."
   ]
  },
  {
   "cell_type": "code",
   "execution_count": null,
   "metadata": {
    "collapsed": true,
    "deletable": true,
    "editable": true
   },
   "outputs": [],
   "source": []
  },
  {
   "cell_type": "markdown",
   "metadata": {
    "deletable": true,
    "editable": true
   },
   "source": [
    "### Q9.2, Describe what right side of the tree tells you:"
   ]
  },
  {
   "cell_type": "markdown",
   "metadata": {
    "deletable": true,
    "editable": true
   },
   "source": []
  },
  {
   "cell_type": "markdown",
   "metadata": {
    "deletable": true,
    "editable": true
   },
   "source": [
    "### Q9.3, Describe what left side of the tree tells you:"
   ]
  },
  {
   "cell_type": "markdown",
   "metadata": {
    "deletable": true,
    "editable": true
   },
   "source": []
  }
 ],
 "metadata": {
  "kernelspec": {
   "display_name": "Python 3",
   "language": "python",
   "name": "python3"
  },
  "language_info": {
   "codemirror_mode": {
    "name": "ipython",
    "version": 3
   },
   "file_extension": ".py",
   "mimetype": "text/x-python",
   "name": "python",
   "nbconvert_exporter": "python",
   "pygments_lexer": "ipython3",
   "version": "3.7.1"
  }
 },
 "nbformat": 4,
 "nbformat_minor": 1
}
